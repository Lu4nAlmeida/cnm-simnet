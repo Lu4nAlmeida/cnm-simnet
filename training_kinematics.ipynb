{
  "cells": [
    {
      "cell_type": "markdown",
      "metadata": {
        "id": "view-in-github",
        "colab_type": "text"
      },
      "source": [
        "<a href=\"https://colab.research.google.com/github/Lu4nAlmeida/cnm-simnet/blob/main/training_kinematics.ipynb\" target=\"_parent\"><img src=\"https://colab.research.google.com/assets/colab-badge.svg\" alt=\"Open In Colab\"/></a>"
      ]
    },
    {
      "cell_type": "code",
      "source": [
        "# Clone repo and add src modules\n",
        "!git clone https://github.com/Lu4nAlmeida/cnm-simnet.git\n",
        "%cd cnm-simnet\n",
        "%cd notebooks\n",
        "import sys\n",
        "sys.path.append('../src')"
      ],
      "metadata": {
        "colab": {
          "base_uri": "https://localhost:8080/"
        },
        "id": "7LhDFBdilLk3",
        "outputId": "5538d47d-8841-4512-c172-9550f7a4c3c1"
      },
      "execution_count": null,
      "outputs": [
        {
          "output_type": "stream",
          "name": "stdout",
          "text": [
            "Cloning into 'cnm-simnet'...\n",
            "remote: Enumerating objects: 153, done.\u001b[K\n",
            "remote: Counting objects: 100% (153/153), done.\u001b[K\n",
            "remote: Compressing objects: 100% (113/113), done.\u001b[K\n",
            "remote: Total 153 (delta 65), reused 95 (delta 29), pack-reused 0 (from 0)\u001b[K\n",
            "Receiving objects: 100% (153/153), 25.53 MiB | 34.72 MiB/s, done.\n",
            "Resolving deltas: 100% (65/65), done.\n",
            "/content/cnm-simnet\n",
            "/content/cnm-simnet/notebooks\n"
          ]
        }
      ]
    },
    {
      "cell_type": "code",
      "execution_count": null,
      "metadata": {
        "id": "Z49ZZOXbkOHQ"
      },
      "outputs": [],
      "source": [
        "# Import Dependencies\n",
        "import torch\n",
        "import matplotlib.pyplot as plt\n",
        "import pickle as pk\n",
        "import numpy as np\n",
        "from simulate_kinematics import KinematicsSimulation\n",
        "from models import KinematicsModel\n",
        "#from utils import accuracy\n",
        "from generate_data import generate_kinematics_data as generate_data\n",
        "import time\n",
        "import math"
      ]
    },
    {
      "cell_type": "code",
      "source": [
        "# Data Parameters\n",
        "num_dim = 2\n",
        "time_step = 0.01\n",
        "duration = 1.0\n",
        "simulations = 100\n",
        "\n",
        "shape = (int(duration / time_step), num_dim)\n",
        "\n",
        "# Time steps as a NumPy array\n",
        "delta_times = np.arange(0, duration, time_step)\n",
        "delta_times = np.broadcast_to(delta_times[:, None], shape)"
      ],
      "metadata": {
        "id": "LUEjRIjMlxMh"
      },
      "execution_count": null,
      "outputs": []
    },
    {
      "cell_type": "code",
      "execution_count": null,
      "metadata": {
        "id": "74s4Nt9Z1EtE"
      },
      "outputs": [],
      "source": [
        "# Training Hyperparameters\n",
        "num_epochs = 1000\n",
        "learning_rate = 0.01\n",
        "loss_fn = torch.nn.MSELoss()\n",
        "\n",
        "# Model Architecture\n",
        "NUM_HIDDEN_NEURONS = 256\n",
        "in_features = num_dim * 2 + 1  # (vel_x, vel_y, acc_x, acc_y, time_step)  2D\n",
        "out_features = num_dim * 2     # (pos_x, pos_y, vel_x, vel_y)             2D"
      ]
    },
    {
      "cell_type": "code",
      "execution_count": null,
      "metadata": {
        "id": "ejagw8HmtTE7",
        "colab": {
          "base_uri": "https://localhost:8080/",
          "height": 35
        },
        "outputId": "022fb25a-8202-4bd4-b879-4256361be0f0"
      },
      "outputs": [
        {
          "output_type": "execute_result",
          "data": {
            "text/plain": [
              "'cpu'"
            ],
            "application/vnd.google.colaboratory.intrinsic+json": {
              "type": "string"
            }
          },
          "metadata": {},
          "execution_count": 8
        }
      ],
      "source": [
        "# Create device agnostic code\n",
        "device = \"cuda\" if torch.cuda.is_available() else \"cpu\"\n",
        "device"
      ]
    },
    {
      "cell_type": "code",
      "execution_count": null,
      "metadata": {
        "id": "GM6LE2xstGr1",
        "colab": {
          "base_uri": "https://localhost:8080/"
        },
        "outputId": "e8a32f54-2291-47ad-e6ee-d7b84bc9ff1e"
      },
      "outputs": [
        {
          "output_type": "execute_result",
          "data": {
            "text/plain": [
              "KinematicsModel(\n",
              "  (net): Sequential(\n",
              "    (0): Linear(in_features=5, out_features=256, bias=True)\n",
              "    (1): ReLU()\n",
              "    (2): Linear(in_features=256, out_features=256, bias=True)\n",
              "    (3): ReLU()\n",
              "    (4): Linear(in_features=256, out_features=256, bias=True)\n",
              "    (5): ReLU()\n",
              "    (6): Linear(in_features=256, out_features=4, bias=True)\n",
              "  )\n",
              ")"
            ]
          },
          "metadata": {},
          "execution_count": 9
        }
      ],
      "source": [
        "# Create an instance of KinematicsModel and send it to the correct device\n",
        "model = KinematicsModel(in_features, out_features, NUM_HIDDEN_NEURONS)\n",
        "model = model.double()\n",
        "model.to(device)"
      ]
    },
    {
      "cell_type": "code",
      "execution_count": null,
      "metadata": {
        "id": "XFXduUAeATWt"
      },
      "outputs": [],
      "source": [
        "# Create optimizer and lr scheduler\n",
        "optimizer = torch.optim.AdamW(params=model.parameters(), lr=learning_rate, weight_decay=1e-4)"
      ]
    },
    {
      "cell_type": "code",
      "execution_count": null,
      "metadata": {
        "id": "b0nppmK6WeNT",
        "colab": {
          "base_uri": "https://localhost:8080/",
          "height": 332
        },
        "outputId": "2ff361d2-207b-46c9-b6a6-afd6ff275fa5"
      },
      "outputs": [
        {
          "output_type": "error",
          "ename": "NameError",
          "evalue": "name 'X' is not defined",
          "traceback": [
            "\u001b[0;31m---------------------------------------------------------------------------\u001b[0m",
            "\u001b[0;31mNameError\u001b[0m                                 Traceback (most recent call last)",
            "\u001b[0;32m/tmp/ipython-input-1849856744.py\u001b[0m in \u001b[0;36m<cell line: 0>\u001b[0;34m()\u001b[0m\n\u001b[1;32m      4\u001b[0m \u001b[0;34m\u001b[0m\u001b[0m\n\u001b[1;32m      5\u001b[0m \u001b[0;32mfor\u001b[0m \u001b[0mepoch\u001b[0m \u001b[0;32min\u001b[0m \u001b[0mrange\u001b[0m\u001b[0;34m(\u001b[0m\u001b[0mnum_epochs\u001b[0m\u001b[0;34m)\u001b[0m\u001b[0;34m:\u001b[0m\u001b[0;34m\u001b[0m\u001b[0;34m\u001b[0m\u001b[0m\n\u001b[0;32m----> 6\u001b[0;31m     \u001b[0mX_train\u001b[0m\u001b[0;34m,\u001b[0m \u001b[0my_train\u001b[0m\u001b[0;34m,\u001b[0m \u001b[0mX_test\u001b[0m\u001b[0;34m,\u001b[0m \u001b[0my_test\u001b[0m\u001b[0;34m,\u001b[0m \u001b[0;34m*\u001b[0m\u001b[0m_\u001b[0m \u001b[0;34m=\u001b[0m \u001b[0mgenerate_data\u001b[0m\u001b[0;34m(\u001b[0m\u001b[0msimulations\u001b[0m\u001b[0;34m,\u001b[0m \u001b[0mnum_dim\u001b[0m\u001b[0;34m,\u001b[0m \u001b[0mshape\u001b[0m\u001b[0;34m,\u001b[0m \u001b[0mdelta_times\u001b[0m\u001b[0;34m)\u001b[0m\u001b[0;34m\u001b[0m\u001b[0;34m\u001b[0m\u001b[0m\n\u001b[0m\u001b[1;32m      7\u001b[0m \u001b[0;34m\u001b[0m\u001b[0m\n\u001b[1;32m      8\u001b[0m     \u001b[0mX_train\u001b[0m \u001b[0;34m=\u001b[0m \u001b[0mX_train\u001b[0m\u001b[0;34m.\u001b[0m\u001b[0mto\u001b[0m\u001b[0;34m(\u001b[0m\u001b[0mdevice\u001b[0m\u001b[0;34m)\u001b[0m\u001b[0;34m\u001b[0m\u001b[0;34m\u001b[0m\u001b[0m\n",
            "\u001b[0;32m/content/cnm-simnet/notebooks/../src/generate_data.py\u001b[0m in \u001b[0;36mgenerate_kinematics_data\u001b[0;34m(num_simulations, num_dim, shape, time_steps)\u001b[0m\n\u001b[1;32m     95\u001b[0m \u001b[0;34m\u001b[0m\u001b[0m\n\u001b[1;32m     96\u001b[0m     \u001b[0;31m# Shuffle data\u001b[0m\u001b[0;34m\u001b[0m\u001b[0;34m\u001b[0m\u001b[0m\n\u001b[0;32m---> 97\u001b[0;31m     \u001b[0mperm\u001b[0m \u001b[0;34m=\u001b[0m \u001b[0mnp\u001b[0m\u001b[0;34m.\u001b[0m\u001b[0mrandom\u001b[0m\u001b[0;34m.\u001b[0m\u001b[0mpermutation\u001b[0m\u001b[0;34m(\u001b[0m\u001b[0mX\u001b[0m\u001b[0;34m.\u001b[0m\u001b[0mshape\u001b[0m\u001b[0;34m[\u001b[0m\u001b[0;36m0\u001b[0m\u001b[0;34m]\u001b[0m\u001b[0;34m)\u001b[0m\u001b[0;34m\u001b[0m\u001b[0;34m\u001b[0m\u001b[0m\n\u001b[0m\u001b[1;32m     98\u001b[0m     \u001b[0mX_shuffled\u001b[0m \u001b[0;34m=\u001b[0m \u001b[0mnp\u001b[0m\u001b[0;34m.\u001b[0m\u001b[0marray\u001b[0m\u001b[0;34m(\u001b[0m\u001b[0minput_data\u001b[0m\u001b[0;34m)\u001b[0m\u001b[0;34m[\u001b[0m\u001b[0mperm\u001b[0m\u001b[0;34m]\u001b[0m\u001b[0;34m\u001b[0m\u001b[0;34m\u001b[0m\u001b[0m\n\u001b[1;32m     99\u001b[0m     \u001b[0my_shuffled\u001b[0m \u001b[0;34m=\u001b[0m \u001b[0mnp\u001b[0m\u001b[0;34m.\u001b[0m\u001b[0marray\u001b[0m\u001b[0;34m(\u001b[0m\u001b[0moutput_data\u001b[0m\u001b[0;34m)\u001b[0m\u001b[0;34m[\u001b[0m\u001b[0mperm\u001b[0m\u001b[0;34m]\u001b[0m\u001b[0;34m\u001b[0m\u001b[0;34m\u001b[0m\u001b[0m\n",
            "\u001b[0;31mNameError\u001b[0m: name 'X' is not defined"
          ]
        }
      ],
      "source": [
        "# Training Loop\n",
        "train_losses = []\n",
        "test_losses = []\n",
        "\n",
        "for epoch in range(num_epochs):\n",
        "    X_train, y_train, X_test, y_test, *_ = generate_data(simulations, num_dim, shape, delta_times)\n",
        "\n",
        "    X_train = X_train.to(device)\n",
        "    y_train = y_train.to(device)\n",
        "    X_test = X_test.to(device)\n",
        "    y_test = y_test.to(device)\n",
        "\n",
        "    model.train()\n",
        "\n",
        "    # Forward pass\n",
        "    y_pred = model(X_train)\n",
        "    loss = loss_fn(y_pred, y_train)\n",
        "\n",
        "    # Backward pass\n",
        "    optimizer.zero_grad()\n",
        "    loss.backward()\n",
        "    optimizer.step()\n",
        "\n",
        "    train_losses.append(loss.item())\n",
        "\n",
        "    # Test loss\n",
        "    model.eval()\n",
        "    with torch.no_grad():\n",
        "        test_pred = model(X_test)\n",
        "        test_loss = loss_fn(test_pred, y_test).item()\n",
        "        test_losses.append(test_loss)\n",
        "\n",
        "    # Print out metrics\n",
        "    if epoch % 100 == 0:\n",
        "        print(f\"Epoch: {epoch:>4} | Loss: {loss:.6f} | Test Loss: {test_loss:.6f}\")\n",
        "\n",
        "# Plot the loss curve\n",
        "plt.plot(train_losses, label=\"Train Loss\")\n",
        "plt.plot(test_losses, label=\"Test Loss\")\n",
        "plt.xlabel(\"Epoch\")\n",
        "plt.ylabel(\"Loss\")\n",
        "plt.legend()\n",
        "plt.title(\"Training Curve\")\n",
        "plt.grid(True)\n",
        "plt.show()"
      ]
    },
    {
      "cell_type": "code",
      "source": [
        "def accuracy(expected, inferred, mode=\"rmse\"):\n",
        "    if mode == \"rmse\":\n",
        "        error = math.sqrt(np.mean((expected - inferred) ** 2))\n",
        "    elif mode == \"mse\":\n",
        "        error = np.mean((expected - inferred) ** 2)\n",
        "    elif mode == \"mae\":\n",
        "        error = np.mean(np.abs(expected - inferred))\n",
        "\n",
        "    accuracy = 1 / (error + 1)\n",
        "    return accuracy * 100"
      ],
      "metadata": {
        "id": "plshAvjdttPC"
      },
      "execution_count": null,
      "outputs": []
    },
    {
      "cell_type": "code",
      "source": [
        "# Make inference\n",
        "sims = 1000\n",
        "X_train, y_train, X_test, y_test, sim_time, total_time = generate_data(int(sims/0.2), num_dim, shape, delta_times)\n",
        "X_test = X_test.to(device)\n",
        "y_test = y_test.to(device)\n",
        "\n",
        "start_time = time.perf_counter()\n",
        "model.eval()\n",
        "with torch.no_grad():\n",
        "  test_pred = model(X_test)\n",
        "  end_time = time.perf_counter()\n",
        "  test_pred = test_pred.cpu().numpy()\n",
        "  y_test = y_test.cpu().numpy()\n",
        "\n",
        "pred_time = end_time - start_time"
      ],
      "metadata": {
        "id": "j3S34hFOqAEA"
      },
      "execution_count": null,
      "outputs": []
    },
    {
      "cell_type": "code",
      "source": [
        "# Benchmarks\n",
        "print(f\"Simulations: {y_test.shape[0]}\")\n",
        "print(f\"Simulation computed in {sim_time:.9f} seconds.\")\n",
        "print(f\"Simulations total time {total_time:.9f} seconds.\")\n",
        "print(f\"Simulation inferred in {pred_time:.9f} seconds.\\n\")\n",
        "\n",
        "print(f\"Accuracy (RMSE): {accuracy(y_test, test_pred,'rmse'):.2f}%\")\n",
        "print(f\"Accuracy (MSE): {accuracy(y_test, test_pred, 'mse'):.2f}%\")\n",
        "print(f\"Accuracy (MAE): {accuracy(y_test, test_pred, 'mae'):.2f}%\")"
      ],
      "metadata": {
        "id": "6aoVRivErggV"
      },
      "execution_count": null,
      "outputs": []
    },
    {
      "cell_type": "code",
      "source": [
        "sim_times = []\n",
        "total_times = []\n",
        "pred_times = []\n",
        "\n",
        "for num_sims in range(1, 21, 1):\n",
        "    X_train, y_train, X_test, y_test, sim_time, total_time = generate_data(int(num_sims/0.2), num_dim, shape, delta_times)\n",
        "    X_test = X_test.to(device)\n",
        "    y_test = y_test.to(device)\n",
        "\n",
        "    start_time = time.perf_counter()\n",
        "    model.eval()\n",
        "    with torch.no_grad():\n",
        "      test_pred = model(X_test)\n",
        "      end_time = time.perf_counter()\n",
        "      test_pred = test_pred.cpu().numpy()\n",
        "      y_test = y_test.cpu().numpy()\n",
        "\n",
        "    pred_time = end_time - start_time\n",
        "\n",
        "    sim_times.append(sim_time)\n",
        "    total_times.append(total_time)\n",
        "    pred_times.append(pred_time)\n",
        "    print(f\"Simulations: {num_sims}\")"
      ],
      "metadata": {
        "id": "4gMTlsyErqoU"
      },
      "execution_count": null,
      "outputs": []
    },
    {
      "cell_type": "code",
      "source": [
        "# Plot comparasion graph\n",
        "plt.plot([i * 1 for i in range(1, len(sim_times) + 1)], sim_times, label=\"Average Compute Time\")\n",
        "plt.plot([i * 1 for i in range(1, len(total_times) + 1)], total_times, label=\"Total Compute Time\")\n",
        "plt.plot([i * 1 for i in range(1, len(pred_times) + 1)], pred_times, label=\"Inference Time\")\n",
        "plt.xlabel(\"Number of Simulations\")\n",
        "plt.ylabel(\"Runtime (s)\")\n",
        "plt.legend()\n",
        "plt.title(\"Runtimes Comparison\")\n",
        "plt.grid(True)\n",
        "plt.show()"
      ],
      "metadata": {
        "id": "f4gigiyesBAz"
      },
      "execution_count": null,
      "outputs": []
    },
    {
      "cell_type": "code",
      "source": [
        "def simulation_visualization(components, frames=shape[0], color=\"black\"):\n",
        "    for i in range(frames):\n",
        "        pos = components[0][i], components[1][i]\n",
        "        vel = components[2][i], components[3][i]\n",
        "        frc = components[4][i], components[5][i]\n",
        "\n",
        "        # Set axis limits dynamically\n",
        "        plt.xlim(-5, 5)\n",
        "        plt.ylim(-5, 5)\n",
        "\n",
        "        if i == 0 or i == 99:\n",
        "          # Plot velocity and acceleration vectors\n",
        "          plt.quiver(pos[0], pos[1], frc[0]/2, frc[1]/2, color='orange', scale=15)  # Drag Force\n",
        "          #plt.quiver(pos[0], pos[1], initial[\"acc\"][0][0], initial[\"acc\"][0][1], color='red', scale=15)  # Acceleration\n",
        "          plt.quiver(pos[0], pos[1], vel[0]/2, vel[1]/2, color='blue', scale=15)  # Velocity\n",
        "\n",
        "        # Plot particle position\n",
        "        plt.scatter(pos[0], pos[1], color=color)"
      ],
      "metadata": {
        "id": "cwbskTc6sTZ5"
      },
      "execution_count": null,
      "outputs": []
    },
    {
      "cell_type": "code",
      "source": [
        "# Reshape the data to 2D before inverse transform\n",
        "y_shape = y_test.shape\n",
        "test_pred = test_pred.reshape(-1, test_pred.shape[-1])\n",
        "y_test = y_test.reshape(-1, y_test.shape[-1])\n",
        "\n",
        "y_pred = y_scaler.inverse_transform(test_pred)\n",
        "y_test = y_scaler.inverse_transform(y_test)\n",
        "\n",
        "# Reshape back to 3D after inverse transform\n",
        "y_pred = y_pred.reshape(y_shape)\n",
        "y_test = y_test.reshape(y_shape)\n",
        "\n",
        "y_pred.shape, y_test.shape"
      ],
      "metadata": {
        "id": "nR-bwqv2sUvW"
      },
      "execution_count": null,
      "outputs": []
    },
    {
      "cell_type": "code",
      "source": [
        "sim = 9\n",
        "\n",
        "simulation_visualization(y_test[sim].T)\n",
        "simulation_visualization(y_pred[sim].T, color=\"cyan\")\n",
        "plt.show()"
      ],
      "metadata": {
        "id": "b9gmPHf4sXnL"
      },
      "execution_count": null,
      "outputs": []
    },
    {
      "cell_type": "code",
      "execution_count": null,
      "metadata": {
        "id": "IZ4ow8TfrJk8"
      },
      "outputs": [],
      "source": [
        "# Saving Model\n",
        "torch.save(obj=model.state_dict(), f=\"/content/model_9.pth\")"
      ]
    }
  ],
  "metadata": {
    "colab": {
      "gpuType": "T4",
      "provenance": [],
      "mount_file_id": "1q2He8p6rxhUxZC01UujMN-IgzmdrdrGC",
      "authorship_tag": "ABX9TyPIpxo46/MmCze7Ys3/gxAk",
      "include_colab_link": true
    },
    "kernelspec": {
      "display_name": "Python 3",
      "name": "python3"
    },
    "language_info": {
      "name": "python"
    }
  },
  "nbformat": 4,
  "nbformat_minor": 0
}