{
  "cells": [
    {
      "cell_type": "markdown",
      "metadata": {
        "id": "view-in-github",
        "colab_type": "text"
      },
      "source": [
        "<a href=\"https://colab.research.google.com/github/Lu4nAlmeida/cnm-simnet/blob/main/notebooks/training_ldpm.ipynb\" target=\"_parent\"><img src=\"https://colab.research.google.com/assets/colab-badge.svg\" alt=\"Open In Colab\"/></a>"
      ]
    },
    {
      "cell_type": "code",
      "source": [
        "# Clone repo and add src modules\n",
        "!git clone https://github.com/Lu4nAlmeida/cnm-simnet.git\n",
        "%cd cnm-simnet\n",
        "%cd notebooks\n",
        "import sys\n",
        "sys.path.append('../src')"
      ],
      "metadata": {
        "id": "bl80_ovjkhKD",
        "outputId": "755e7901-b771-427d-d2c0-516bac89c8db",
        "colab": {
          "base_uri": "https://localhost:8080/"
        }
      },
      "execution_count": 1,
      "outputs": [
        {
          "output_type": "stream",
          "name": "stdout",
          "text": [
            "Cloning into 'cnm-simnet'...\n",
            "remote: Enumerating objects: 112, done.\u001b[K\n",
            "remote: Counting objects: 100% (112/112), done.\u001b[K\n",
            "remote: Compressing objects: 100% (79/79), done.\u001b[K\n",
            "remote: Total 112 (delta 39), reused 90 (delta 24), pack-reused 0 (from 0)\u001b[K\n",
            "Receiving objects: 100% (112/112), 25.41 MiB | 6.95 MiB/s, done.\n",
            "Resolving deltas: 100% (39/39), done.\n",
            "/content/cnm-simnet\n",
            "/content/cnm-simnet/notebooks\n"
          ]
        }
      ]
    },
    {
      "cell_type": "code",
      "execution_count": 2,
      "metadata": {
        "id": "Z49ZZOXbkOHQ"
      },
      "outputs": [],
      "source": [
        "# Import Dependencies\n",
        "import torch\n",
        "import matplotlib.pyplot as plt\n",
        "import pickle as pk\n",
        "import numpy as np\n",
        "from simulate_ldpm import ProjectileMotionSimulation\n",
        "from models import ProjectileMotionModelRNN\n",
        "from utils import get_global_scalers\n",
        "from generate_data import generate_ldpm_data as generate_data\n",
        "import time\n",
        "import math"
      ]
    },
    {
      "cell_type": "code",
      "execution_count": 3,
      "metadata": {
        "id": "4LE6uepGb7-i"
      },
      "outputs": [],
      "source": [
        "# Data Parameters\n",
        "num_dim = 2\n",
        "time_step = 0.01\n",
        "duration = 1.0\n",
        "simulations = 100\n",
        "\n",
        "shape = (int(duration / time_step), num_dim)\n",
        "\n",
        "# Time steps as a NumPy array\n",
        "delta_times = np.arange(0, duration, time_step)\n",
        "delta_times = np.broadcast_to(delta_times[:, None], shape)"
      ]
    },
    {
      "cell_type": "code",
      "execution_count": 4,
      "metadata": {
        "id": "74s4Nt9Z1EtE"
      },
      "outputs": [],
      "source": [
        "# Training Hyperparameters\n",
        "num_epochs = 1000\n",
        "learning_rate = 0.001\n",
        "loss_fn = torch.nn.MSELoss()\n",
        "\n",
        "# Model Architecture\n",
        "NUM_HIDDEN_NEURONS = 128\n",
        "NUM_HIDDEN_LAYERS = 2\n",
        "in_features = num_dim * 2 + 2  # (vel_x, vel_y, acc_x, acc_y, mass, drg)     2D\n",
        "out_features = num_dim * 3     # (pos_x, pos_y, vel_x, vel_y, frc_x, frc_y)  2D"
      ]
    },
    {
      "cell_type": "code",
      "execution_count": 5,
      "metadata": {
        "colab": {
          "base_uri": "https://localhost:8080/",
          "height": 35
        },
        "id": "ejagw8HmtTE7",
        "outputId": "7251e2b8-3a92-4f65-f2e3-6dbc14d89a9e"
      },
      "outputs": [
        {
          "output_type": "execute_result",
          "data": {
            "text/plain": [
              "'cuda'"
            ],
            "application/vnd.google.colaboratory.intrinsic+json": {
              "type": "string"
            }
          },
          "metadata": {},
          "execution_count": 5
        }
      ],
      "source": [
        "# Create device agnostic code\n",
        "device = \"cuda\" if torch.cuda.is_available() else \"cpu\"\n",
        "device"
      ]
    },
    {
      "cell_type": "code",
      "execution_count": 6,
      "metadata": {
        "id": "lVAKSjRfoFvo",
        "outputId": "9251b721-80e2-46e7-eb47-927428378e19",
        "colab": {
          "base_uri": "https://localhost:8080/",
          "height": 269
        }
      },
      "outputs": [
        {
          "output_type": "error",
          "ename": "TypeError",
          "evalue": "ProjectileMotionSimulation.random_initial_parameters() missing 1 required positional argument: 'shape'",
          "traceback": [
            "\u001b[0;31m---------------------------------------------------------------------------\u001b[0m",
            "\u001b[0;31mTypeError\u001b[0m                                 Traceback (most recent call last)",
            "\u001b[0;32m/tmp/ipython-input-6-1561463163.py\u001b[0m in \u001b[0;36m<cell line: 0>\u001b[0;34m()\u001b[0m\n\u001b[0;32m----> 1\u001b[0;31m \u001b[0mX_scaler\u001b[0m\u001b[0;34m,\u001b[0m \u001b[0my_scaler\u001b[0m \u001b[0;34m=\u001b[0m \u001b[0mget_global_scalers\u001b[0m\u001b[0;34m(\u001b[0m\u001b[0mnum_dim\u001b[0m\u001b[0;34m,\u001b[0m \u001b[0mshape\u001b[0m\u001b[0;34m,\u001b[0m \u001b[0mdelta_times\u001b[0m\u001b[0;34m)\u001b[0m\u001b[0;34m\u001b[0m\u001b[0;34m\u001b[0m\u001b[0m\n\u001b[0m",
            "\u001b[0;32m/content/cnm-simnet/notebooks/../src/utils.py\u001b[0m in \u001b[0;36mget_global_scalers\u001b[0;34m(num_dim, shape, time_steps, sample_size)\u001b[0m\n\u001b[1;32m      9\u001b[0m     \u001b[0;32mfor\u001b[0m \u001b[0m_\u001b[0m \u001b[0;32min\u001b[0m \u001b[0mrange\u001b[0m\u001b[0;34m(\u001b[0m\u001b[0msample_size\u001b[0m\u001b[0;34m)\u001b[0m\u001b[0;34m:\u001b[0m\u001b[0;34m\u001b[0m\u001b[0;34m\u001b[0m\u001b[0m\n\u001b[1;32m     10\u001b[0m         \u001b[0;31m# Same logic as in generate_data()\u001b[0m\u001b[0;34m\u001b[0m\u001b[0;34m\u001b[0m\u001b[0m\n\u001b[0;32m---> 11\u001b[0;31m         \u001b[0mldpm\u001b[0m \u001b[0;34m=\u001b[0m \u001b[0mProjectileMotionSimulation\u001b[0m\u001b[0;34m.\u001b[0m\u001b[0mrandom_initial_parameters\u001b[0m\u001b[0;34m(\u001b[0m\u001b[0mnum_dim\u001b[0m\u001b[0;34m,\u001b[0m \u001b[0mshape\u001b[0m\u001b[0;34m)\u001b[0m\u001b[0;34m\u001b[0m\u001b[0;34m\u001b[0m\u001b[0m\n\u001b[0m\u001b[1;32m     12\u001b[0m         \u001b[0mldpm\u001b[0m\u001b[0;34m.\u001b[0m\u001b[0mcompute_output\u001b[0m\u001b[0;34m(\u001b[0m\u001b[0mtime_steps\u001b[0m\u001b[0;34m)\u001b[0m\u001b[0;34m\u001b[0m\u001b[0;34m\u001b[0m\u001b[0m\n\u001b[1;32m     13\u001b[0m \u001b[0;34m\u001b[0m\u001b[0m\n",
            "\u001b[0;31mTypeError\u001b[0m: ProjectileMotionSimulation.random_initial_parameters() missing 1 required positional argument: 'shape'"
          ]
        }
      ],
      "source": [
        "X_scaler, y_scaler = get_global_scalers(num_dim, shape, delta_times)"
      ]
    },
    {
      "cell_type": "code",
      "execution_count": null,
      "metadata": {
        "id": "T21qDSSR8m7X"
      },
      "outputs": [],
      "source": [
        "# Create model and optimizer\n",
        "model = ProjectileMotionModelRNN().to(device)"
      ]
    },
    {
      "cell_type": "code",
      "source": [
        "optimizer = torch.optim.AdamW(model.parameters(), lr=learning_rate, weight_decay=1e-4)"
      ],
      "metadata": {
        "id": "yVo05yDhvBq-"
      },
      "execution_count": null,
      "outputs": []
    },
    {
      "cell_type": "code",
      "execution_count": null,
      "metadata": {
        "id": "_VqjYXFnEMlL"
      },
      "outputs": [],
      "source": [
        "# Training Loop\n",
        "train_losses = []\n",
        "test_losses = []\n",
        "\n",
        "for epoch in range(num_epochs):\n",
        "    X_train, y_train, X_test, y_test, *_ = generate_data(X_scaler, y_scaler, simulations, num_dim, shape, delta_times)\n",
        "\n",
        "    X_train = X_train.to(device)\n",
        "    y_train = y_train.to(device)\n",
        "    X_test = X_test.to(device)\n",
        "    y_test = y_test.to(device)\n",
        "\n",
        "    model.train()\n",
        "\n",
        "    optimizer.zero_grad()\n",
        "    y_pred = model(X_train)\n",
        "    loss = loss_fn(y_pred, y_train)\n",
        "    loss.backward()\n",
        "    optimizer.step()\n",
        "\n",
        "    train_losses.append(loss.item())\n",
        "\n",
        "    # Test loss (only one batch)\n",
        "    model.eval()\n",
        "    with torch.no_grad():\n",
        "        test_pred = model(X_test)\n",
        "        test_loss = loss_fn(test_pred, y_test).item()\n",
        "        test_losses.append(test_loss)\n",
        "\n",
        "    if epoch % 100 == 0:\n",
        "        print(f\"[Epoch {epoch:>4}] Train Loss: {loss.item():.6f} | Test Loss: {test_loss:.6f}\")\n",
        "\n",
        "# Plot the loss curve\n",
        "plt.plot(train_losses, label=\"Train Loss\")\n",
        "plt.plot(test_losses, label=\"Test Loss\")\n",
        "plt.xlabel(\"Epoch\")\n",
        "plt.ylabel(\"Loss\")\n",
        "plt.legend()\n",
        "plt.title(\"Training Curve\")\n",
        "plt.grid(True)\n",
        "plt.show()"
      ]
    },
    {
      "cell_type": "code",
      "source": [
        "def accuracy(expected, inferred, mode=\"rmse\"):\n",
        "    if mode == \"rmse\":\n",
        "        error = math.sqrt(np.mean((expected - inferred) ** 2))\n",
        "    elif mode == \"mse\":\n",
        "        error = np.mean((expected - inferred) ** 2)\n",
        "    elif mode == \"mae\":\n",
        "        error = np.mean(np.abs(expected - inferred))\n",
        "\n",
        "    accuracy = 1 / (error + 1)\n",
        "    return accuracy * 100"
      ],
      "metadata": {
        "id": "pmSp6vLS-xd1"
      },
      "execution_count": null,
      "outputs": []
    },
    {
      "cell_type": "code",
      "execution_count": null,
      "metadata": {
        "id": "3soQjqmEX_5d"
      },
      "outputs": [],
      "source": [
        "# Make inference\n",
        "sims = 1000\n",
        "X_train, y_train, X_test, y_test, sim_time, total_time = generate_data(X_scaler, y_scaler, int(sims/0.2), num_dim, shape, delta_times)\n",
        "X_test = X_test.to(device)\n",
        "y_test = y_test.to(device)\n",
        "\n",
        "start_time = time.perf_counter()\n",
        "model.eval()\n",
        "with torch.no_grad():\n",
        "  test_pred = model(X_test)\n",
        "  end_time = time.perf_counter()\n",
        "  test_pred = test_pred.cpu().numpy()\n",
        "  y_test = y_test.cpu().numpy()\n",
        "\n",
        "pred_time = end_time - start_time"
      ]
    },
    {
      "cell_type": "code",
      "source": [
        "# Benchmarks\n",
        "print(f\"Simulations: {y_test.shape[0]}\")\n",
        "print(f\"Simulation computed in {sim_time:.9f} seconds.\")\n",
        "print(f\"Simulations total time {total_time:.9f} seconds.\")\n",
        "print(f\"Simulation inferred in {pred_time:.9f} seconds.\\n\")\n",
        "\n",
        "print(f\"Accuracy (RMSE): {accuracy(y_test, test_pred,'rmse'):.2f}%\")\n",
        "print(f\"Accuracy (MSE): {accuracy(y_test, test_pred, 'mse'):.2f}%\")\n",
        "print(f\"Accuracy (MAE): {accuracy(y_test, test_pred, 'mae'):.2f}%\")"
      ],
      "metadata": {
        "id": "f-hnWsOQATp8"
      },
      "execution_count": null,
      "outputs": []
    },
    {
      "cell_type": "code",
      "source": [
        "sim_times = []\n",
        "total_times = []\n",
        "pred_times = []\n",
        "\n",
        "for num_sims in range(1, 21, 1):\n",
        "    X_train, y_train, X_test, y_test, sim_time, total_time = generate_data(X_scaler, y_scaler, int(num_sims/0.2), num_dim, shape, delta_times)\n",
        "    X_test = X_test.to(device)\n",
        "    y_test = y_test.to(device)\n",
        "\n",
        "    start_time = time.perf_counter()\n",
        "    model.eval()\n",
        "    with torch.no_grad():\n",
        "      test_pred = model(X_test)\n",
        "      end_time = time.perf_counter()\n",
        "      test_pred = test_pred.cpu().numpy()\n",
        "      y_test = y_test.cpu().numpy()\n",
        "\n",
        "    pred_time = end_time - start_time\n",
        "\n",
        "    sim_times.append(sim_time)\n",
        "    total_times.append(total_time)\n",
        "    pred_times.append(pred_time)\n",
        "    print(f\"Simulations: {num_sims}\")"
      ],
      "metadata": {
        "id": "2bAY42bda6mk"
      },
      "execution_count": null,
      "outputs": []
    },
    {
      "cell_type": "code",
      "source": [
        "# Plot comparasion graph\n",
        "plt.plot([i * 1 for i in range(1, len(sim_times) + 1)], sim_times, label=\"Average Compute Time\")\n",
        "plt.plot([i * 1 for i in range(1, len(total_times) + 1)], total_times, label=\"Total Compute Time\")\n",
        "plt.plot([i * 1 for i in range(1, len(pred_times) + 1)], pred_times, label=\"Inference Time\")\n",
        "plt.xlabel(\"Number of Simulations\")\n",
        "plt.ylabel(\"Runtime (s)\")\n",
        "plt.legend()\n",
        "plt.title(\"Runtimes Comparison\")\n",
        "plt.grid(True)\n",
        "plt.show()"
      ],
      "metadata": {
        "id": "dMA9w9uGZ9qm"
      },
      "execution_count": null,
      "outputs": []
    },
    {
      "cell_type": "code",
      "execution_count": null,
      "metadata": {
        "id": "Md2se3NQYeJn"
      },
      "outputs": [],
      "source": [
        "def simulation_visualization(components, frames=shape[0], color=\"black\"):\n",
        "    for i in range(frames):\n",
        "        pos = components[0][i], components[1][i]\n",
        "        vel = components[2][i], components[3][i]\n",
        "        frc = components[4][i], components[5][i]\n",
        "\n",
        "        # Set axis limits dynamically\n",
        "        plt.xlim(-5, 5)\n",
        "        plt.ylim(-5, 5)\n",
        "\n",
        "        if i == 0 or i == 99:\n",
        "          # Plot velocity and acceleration vectors\n",
        "          plt.quiver(pos[0], pos[1], frc[0]/2, frc[1]/2, color='orange', scale=15)  # Drag Force\n",
        "          #plt.quiver(pos[0], pos[1], initial[\"acc\"][0][0], initial[\"acc\"][0][1], color='red', scale=15)  # Acceleration\n",
        "          plt.quiver(pos[0], pos[1], vel[0]/2, vel[1]/2, color='blue', scale=15)  # Velocity\n",
        "\n",
        "        # Plot particle position\n",
        "        plt.scatter(pos[0], pos[1], color=color)"
      ]
    },
    {
      "cell_type": "code",
      "execution_count": null,
      "metadata": {
        "id": "QSrjFptW8Wwx"
      },
      "outputs": [],
      "source": [
        "# Reshape the data to 2D before inverse transform\n",
        "y_shape = y_test.shape\n",
        "test_pred = test_pred.reshape(-1, test_pred.shape[-1])\n",
        "y_test = y_test.reshape(-1, y_test.shape[-1])\n",
        "\n",
        "y_pred = y_scaler.inverse_transform(test_pred)\n",
        "y_test = y_scaler.inverse_transform(y_test)\n",
        "\n",
        "# Reshape back to 3D after inverse transform\n",
        "y_pred = y_pred.reshape(y_shape)\n",
        "y_test = y_test.reshape(y_shape)\n",
        "\n",
        "y_pred.shape, y_test.shape"
      ]
    },
    {
      "cell_type": "code",
      "execution_count": null,
      "metadata": {
        "id": "oleFbBqvYk32"
      },
      "outputs": [],
      "source": [
        "sim = 9\n",
        "\n",
        "simulation_visualization(y_test[sim].T)\n",
        "simulation_visualization(y_pred[sim].T, color=\"cyan\")\n",
        "plt.show()"
      ]
    },
    {
      "cell_type": "code",
      "execution_count": null,
      "metadata": {
        "id": "UCmsj4HzCVUJ"
      },
      "outputs": [],
      "source": [
        "ldpm = ProjectileMotionSimulation(\n",
        "            pos=np.broadcast_to(np.zeros(num_dim), shape),\n",
        "            vel=np.broadcast_to(np.array([7, 7]), shape),\n",
        "            mass=np.full(shape, 0.2),\n",
        "            acc=np.broadcast_to(np.array([0, -9]), shape),\n",
        "            drg=np.full(shape, 2.6)\n",
        "        )\n",
        "\n",
        "ldpm.compute_output(delta_times)\n",
        "\n",
        "inputs = np.concatenate([\n",
        "    ldpm.vel,\n",
        "    ldpm.acc,\n",
        "    ldpm.mass[:, :-1],\n",
        "    ldpm.drg[:, :-1],\n",
        "], axis=1)\n",
        "outputs = np.concatenate([\n",
        "    ldpm.pos,\n",
        "    ldpm.vel,\n",
        "    ldpm.frc\n",
        "], axis=1)\n",
        "\n",
        "X = X_scaler.transform(inputs).reshape(1, shape[0], in_features)\n",
        "y = y_scaler.transform(outputs).reshape(1, shape[0], out_features)"
      ]
    },
    {
      "cell_type": "code",
      "execution_count": null,
      "metadata": {
        "id": "W73Wj1bK0Xfv"
      },
      "outputs": [],
      "source": [
        "# Make inference\n",
        "X = torch.tensor(X, dtype=torch.float32).to(device)\n",
        "y = torch.tensor(y, dtype=torch.float32).to(device)\n",
        "\n",
        "model.eval()\n",
        "with torch.no_grad():\n",
        "  y_pred = model(X)\n",
        "  y_pred = y_pred.cpu().numpy()\n",
        "  y = y.cpu().numpy()"
      ]
    },
    {
      "cell_type": "code",
      "execution_count": null,
      "metadata": {
        "id": "1xzE3xXo1Taj"
      },
      "outputs": [],
      "source": [
        "# Reshape the data to 2D before inverse transform\n",
        "y_pred = y_pred.reshape(shape[0], out_features)\n",
        "y = y.reshape(shape[0], out_features)\n",
        "\n",
        "y_pred = y_scaler.inverse_transform(y_pred)\n",
        "y = y_scaler.inverse_transform(y)"
      ]
    },
    {
      "cell_type": "code",
      "execution_count": null,
      "metadata": {
        "id": "yJuT-tGE1uhr"
      },
      "outputs": [],
      "source": [
        "simulation_visualization(y.T)\n",
        "simulation_visualization(y_pred.T, color=\"cyan\")\n",
        "plt.show()"
      ]
    },
    {
      "cell_type": "code",
      "execution_count": null,
      "metadata": {
        "id": "IZ4ow8TfrJk8"
      },
      "outputs": [],
      "source": [
        "# Saving Model\n",
        "torch.save(model.state_dict(), \"/content/PMmodel_5.pth\")\n",
        "with open(\"scalers5.pkl\", \"wb\") as f:\n",
        "    pk.dump((X_scaler, y_scaler), f)"
      ]
    }
  ],
  "metadata": {
    "accelerator": "GPU",
    "colab": {
      "gpuType": "T4",
      "provenance": [],
      "mount_file_id": "1q2He8p6rxhUxZC01UujMN-IgzmdrdrGC",
      "authorship_tag": "ABX9TyOHqls/zK0Ttx/gVAxYw3IH",
      "include_colab_link": true
    },
    "kernelspec": {
      "display_name": "Python 3",
      "name": "python3"
    },
    "language_info": {
      "name": "python"
    }
  },
  "nbformat": 4,
  "nbformat_minor": 0
}