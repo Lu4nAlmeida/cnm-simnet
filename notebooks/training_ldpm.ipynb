{
  "cells": [
    {
      "cell_type": "markdown",
      "metadata": {
        "id": "view-in-github",
        "colab_type": "text"
      },
      "source": [
        "<a href=\"https://colab.research.google.com/github/Lu4nAlmeida/cnm-simnet/blob/main/training_ldpm.ipynb\" target=\"_parent\"><img src=\"https://colab.research.google.com/assets/colab-badge.svg\" alt=\"Open In Colab\"/></a>"
      ]
    },
    {
      "cell_type": "code",
      "execution_count": 141,
      "metadata": {
        "id": "Z49ZZOXbkOHQ"
      },
      "outputs": [],
      "source": [
        "# Import Dependencies\n",
        "import torch\n",
        "import torch.nn as nn\n",
        "import numpy as np\n",
        "import pickle as pk\n",
        "from sklearn.preprocessing import StandardScaler\n",
        "import matplotlib.pyplot as plt\n",
        "import math\n",
        "import time\n",
        "import copy\n",
        "import random"
      ]
    },
    {
      "cell_type": "code",
      "execution_count": 142,
      "metadata": {
        "id": "74s4Nt9Z1EtE"
      },
      "outputs": [],
      "source": [
        "# Training Hyperparameters\n",
        "num_epochs = 1000\n",
        "learning_rate = 0.001\n",
        "loss_fn = torch.nn.MSELoss()\n",
        "\n",
        "# Model Architecture\n",
        "NUM_HIDDEN_NEURONS = 128\n",
        "NUM_HIDDEN_LAYERS = 2\n",
        "in_features = num_dim * 2 + 2  # (vel_x, vel_y, acc_x, acc_y, mass, drg)     2D\n",
        "out_features = num_dim * 3     # (pos_x, pos_y, vel_x, vel_y, frc_x, frc_y)  2D"
      ]
    },
    {
      "cell_type": "code",
      "execution_count": 143,
      "metadata": {
        "id": "4LE6uepGb7-i"
      },
      "outputs": [],
      "source": [
        "# Data Parameters\n",
        "num_dim = 2\n",
        "time_step = 0.01\n",
        "duration = 1.0\n",
        "simulations = 100\n",
        "\n",
        "shape = (int(duration / time_step), num_dim)\n",
        "\n",
        "# Time steps as a NumPy array\n",
        "delta_times = np.arange(0, duration, time_step)\n",
        "delta_times = np.broadcast_to(delta_times[:, None], shape)"
      ]
    },
    {
      "cell_type": "code",
      "execution_count": 144,
      "metadata": {
        "id": "sVNIGY5cbZ_x"
      },
      "outputs": [],
      "source": [
        "class ProjectileMotionSimulation:\n",
        "    def __init__(self, pos, vel, mass, acc, drg):\n",
        "        self.pos = np.array(pos)\n",
        "        self.vel = np.array(vel)\n",
        "        self.mass = mass\n",
        "        self.acc = np.array(acc)\n",
        "        self.drg = drg\n",
        "        self.frc = self.mass * self.acc\n",
        "\n",
        "    def compute_output(self, initial, time_steps):\n",
        "        self.pos = self.delta_position(initial.mass, initial.acc, initial.drg, initial.vel, time_steps)\n",
        "        self.vel = self.final_velocity(initial.mass, initial.acc, initial.drg, initial.vel, time_steps)\n",
        "        self.frc = self.drag_force(initial.mass, initial.acc, initial.drg, initial.vel, time_steps)\n",
        "\n",
        "    def random_initial_parameters(self, num_dim, shape):\n",
        "        self.pos = np.broadcast_to(np.zeros(num_dim), shape),\n",
        "        self.vel = np.broadcast_to(np.random.uniform(-10, 10, num_dim), shape),\n",
        "        self.mass = np.full(shape, random.uniform(0, 10)),\n",
        "        self.acc = np.broadcast_to(np.random.uniform(-10, 10, num_dim), shape),\n",
        "        self.drg = np.full(shape, random.uniform(0, 5))\n",
        "\n",
        "    @staticmethod\n",
        "    def final_velocity(mass, acc, drg, vel, t):\n",
        "        return (vel - (mass * acc) / drg) * math.e ** (-(drg * t) / mass) + (mass * acc) / drg\n",
        "\n",
        "    @staticmethod\n",
        "    def delta_position(mass, acc, drg, vel, t):\n",
        "        return (mass / drg) * (vel - (mass * acc) / drg) * (1 - math.e ** ((-drg * t) / mass)) + (mass * acc * t) / drg\n",
        "\n",
        "    @staticmethod\n",
        "    def drag_force(mass, acc, drg, vel, t=0):\n",
        "        return -(drg * ProjectileMotionSimulation.final_velocity(mass, acc, drg, vel, t))"
      ]
    },
    {
      "cell_type": "code",
      "execution_count": 145,
      "metadata": {
        "colab": {
          "base_uri": "https://localhost:8080/",
          "height": 35
        },
        "id": "ejagw8HmtTE7",
        "outputId": "e974dac2-e3b5-401a-b29e-8879519f176f"
      },
      "outputs": [
        {
          "output_type": "execute_result",
          "data": {
            "text/plain": [
              "'cuda'"
            ],
            "application/vnd.google.colaboratory.intrinsic+json": {
              "type": "string"
            }
          },
          "metadata": {},
          "execution_count": 145
        }
      ],
      "source": [
        "# Create device agnostic code\n",
        "device = \"cuda\" if torch.cuda.is_available() else \"cpu\"\n",
        "device"
      ]
    },
    {
      "cell_type": "code",
      "execution_count": 146,
      "metadata": {
        "id": "p3I4-yNan8zr"
      },
      "outputs": [],
      "source": [
        "# One-time global fit for scalers\n",
        "def get_global_scalers(sample_size=10000):\n",
        "    input_data = []\n",
        "    output_data = []\n",
        "\n",
        "    for _ in range(sample_size):\n",
        "        # Same logic as in generate_data()\n",
        "        initial = ProjectileMotionSimulation.random_initial_parameters(num_dim, shape)\n",
        "        final = copy.deepcopy(initial)\n",
        "        final.compute_output(initial, delta_times)\n",
        "\n",
        "        inputs = np.concatenate([\n",
        "            final.vel,\n",
        "            final.acc,\n",
        "            final.mass[:, :-1],\n",
        "            final.drg[:, :-1],\n",
        "        ], axis=1)\n",
        "        outputs = np.concatenate([\n",
        "            final.pos,\n",
        "            final.vel,\n",
        "            final.frc\n",
        "        ], axis=1)\n",
        "\n",
        "        input_data.append(inputs)\n",
        "        output_data.append(outputs)\n",
        "\n",
        "    X = np.array(input_data).reshape(-1, in_features)\n",
        "    y = np.array(output_data).reshape(-1, out_features)\n",
        "\n",
        "    X_scaler = StandardScaler().fit(X)\n",
        "    y_scaler = StandardScaler().fit(y)\n",
        "    return X_scaler, y_scaler"
      ]
    },
    {
      "cell_type": "code",
      "execution_count": 147,
      "metadata": {
        "id": "lVAKSjRfoFvo"
      },
      "outputs": [],
      "source": [
        "X_scaler, y_scaler = get_global_scalers(sample_size=2000)"
      ]
    },
    {
      "cell_type": "code",
      "execution_count": 148,
      "metadata": {
        "id": "_ZAaLUsBblUD"
      },
      "outputs": [],
      "source": [
        "def generate_data(X_scaler, y_scaler, num_simulations=simulations):\n",
        "    input_data = []\n",
        "    output_data = []\n",
        "    runtimes = []\n",
        "\n",
        "    for _ in range(num_simulations):\n",
        "        initial = ProjectileMotionSimulation.random_initial_parameters(num_dim, shape)\n",
        "\n",
        "        final = copy.deepcopy(initial)\n",
        "\n",
        "        start_time = time.perf_counter()\n",
        "        final.compute_output(initial, delta_times)\n",
        "        end_time = time.perf_counter()\n",
        "\n",
        "        sim_time = end_time - start_time\n",
        "        runtimes.append(sim_time)\n",
        "\n",
        "        inputs = np.concatenate([\n",
        "            final.vel,\n",
        "            final.acc,\n",
        "            final.mass[:, :-1],\n",
        "            final.drg[:, :-1],\n",
        "        ], axis=1)\n",
        "        outputs = np.concatenate([\n",
        "            final.pos,\n",
        "            final.vel,\n",
        "            final.frc\n",
        "        ], axis=1)\n",
        "\n",
        "        input_data.append(inputs)\n",
        "        output_data.append(outputs)\n",
        "\n",
        "    runtimes = np.array(runtimes)\n",
        "    sim_time = np.mean(runtimes)\n",
        "    total_time = np.sum(runtimes)\n",
        "\n",
        "    X = np.array(input_data).reshape(-1, in_features)\n",
        "    y = np.array(output_data).reshape(-1, out_features)\n",
        "\n",
        "    X_norm = X_scaler.transform(X).reshape(num_simulations, shape[0], in_features)\n",
        "    y_norm = y_scaler.transform(y).reshape(num_simulations, shape[0], out_features)\n",
        "\n",
        "    # Train/test split\n",
        "    split = int(0.8 * len(X_norm))\n",
        "    X_train, X_test = X_norm[:split], X_norm[split:]\n",
        "    y_train, y_test = y_norm[:split], y_norm[split:]\n",
        "\n",
        "    X_train = torch.tensor(X_train, dtype=torch.float32)\n",
        "    y_train = torch.tensor(y_train, dtype=torch.float32)\n",
        "    X_test = torch.tensor(X_test, dtype=torch.float32).to(device)\n",
        "    y_test = torch.tensor(y_test, dtype=torch.float32).to(device)\n",
        "\n",
        "    return X_train, y_train, X_test, y_test, sim_time, total_time"
      ]
    },
    {
      "cell_type": "code",
      "execution_count": 149,
      "metadata": {
        "id": "lGhjWInJroFJ"
      },
      "outputs": [],
      "source": [
        "# Create Model\n",
        "class ProjectileMotionModelRNN(torch.nn.Module):\n",
        "    def __init__(self, in_dim=in_features, hid_dim=NUM_HIDDEN_NEURONS, num_layers=NUM_HIDDEN_LAYERS, out_dim=out_features, dropout=0.2):\n",
        "        super().__init__()\n",
        "        self.rnn = nn.GRU(input_size=in_dim,\n",
        "                            hidden_size=hid_dim,\n",
        "                            num_layers=num_layers,\n",
        "                            batch_first=True,\n",
        "                            dropout=dropout)\n",
        "        self.head = nn.Sequential(\n",
        "            nn.Linear(hid_dim, out_dim),\n",
        "        )\n",
        "    def forward(self, x):\n",
        "        # x: (batch, seq, in_dim)\n",
        "        seq_out, _ = self.rnn(x)          # (batch, seq, hid_dim)\n",
        "        return self.head(seq_out)         # (batch, seq, out_dim)\n"
      ]
    },
    {
      "cell_type": "code",
      "execution_count": 150,
      "metadata": {
        "id": "T21qDSSR8m7X"
      },
      "outputs": [],
      "source": [
        "# Create model and optimizer\n",
        "model = ProjectileMotionModelRNN().to(device)"
      ]
    },
    {
      "cell_type": "code",
      "source": [
        "optimizer = torch.optim.AdamW(model.parameters(), lr=learning_rate, weight_decay=1e-4)"
      ],
      "metadata": {
        "id": "yVo05yDhvBq-"
      },
      "execution_count": 151,
      "outputs": []
    },
    {
      "cell_type": "code",
      "execution_count": 152,
      "metadata": {
        "colab": {
          "base_uri": "https://localhost:8080/",
          "height": 651
        },
        "id": "_VqjYXFnEMlL",
        "outputId": "873f9695-cfa5-4253-f10e-14760371253f"
      },
      "outputs": [
        {
          "output_type": "stream",
          "name": "stdout",
          "text": [
            "[Epoch    0] Train Loss: 1.018496 | Test Loss: 0.903621\n",
            "[Epoch  100] Train Loss: 0.104666 | Test Loss: 0.075649\n",
            "[Epoch  200] Train Loss: 0.017834 | Test Loss: 0.012155\n",
            "[Epoch  300] Train Loss: 0.009534 | Test Loss: 0.006370\n",
            "[Epoch  400] Train Loss: 0.007197 | Test Loss: 0.007288\n",
            "[Epoch  500] Train Loss: 0.005764 | Test Loss: 0.005346\n",
            "[Epoch  600] Train Loss: 0.004804 | Test Loss: 0.002931\n",
            "[Epoch  700] Train Loss: 0.003418 | Test Loss: 0.002509\n",
            "[Epoch  800] Train Loss: 0.003705 | Test Loss: 0.001906\n",
            "[Epoch  900] Train Loss: 0.002796 | Test Loss: 0.002285\n"
          ]
        },
        {
          "output_type": "display_data",
          "data": {
            "text/plain": [
              "<Figure size 640x480 with 1 Axes>"
            ],
            "image/png": "[encoded data removed]"
          },
          "metadata": {}
        }
      ],
      "source": [
        "# Training Loop\n",
        "train_losses = []\n",
        "test_losses = []\n",
        "\n",
        "for epoch in range(num_epochs):\n",
        "    X_train, y_train, X_test, y_test, *_ = generate_data(X_scaler, y_scaler)\n",
        "\n",
        "    X_train = X_train.to(device)\n",
        "    y_train = y_train.to(device)\n",
        "    X_test = X_test.to(device)\n",
        "    y_test = y_test.to(device)\n",
        "\n",
        "    model.train()\n",
        "\n",
        "    optimizer.zero_grad()\n",
        "    y_pred = model(X_train)\n",
        "    loss = loss_fn(y_pred, y_train)\n",
        "    loss.backward()\n",
        "    optimizer.step()\n",
        "\n",
        "    train_losses.append(loss.item())\n",
        "\n",
        "    # Test loss (only one batch)\n",
        "    model.eval()\n",
        "    with torch.no_grad():\n",
        "        test_pred = model(X_test)\n",
        "        test_loss = loss_fn(test_pred, y_test).item()\n",
        "        test_losses.append(test_loss)\n",
        "\n",
        "    if epoch % 100 == 0:\n",
        "        print(f\"[Epoch {epoch:>4}] Train Loss: {loss.item():.6f} | Test Loss: {test_loss:.6f}\")\n",
        "\n",
        "# Plot the loss curve\n",
        "plt.plot(train_losses, label=\"Train Loss\")\n",
        "plt.plot(test_losses, label=\"Test Loss\")\n",
        "plt.xlabel(\"Epoch\")\n",
        "plt.ylabel(\"Loss\")\n",
        "plt.legend()\n",
        "plt.title(\"Training Curve\")\n",
        "plt.grid(True)\n",
        "plt.show()"
      ]
    },
    {
      "cell_type": "code",
      "source": [
        "def accuracy(expected, inferred, mode=\"rmse\"):\n",
        "    if mode == \"rmse\":\n",
        "        error = math.sqrt(np.mean((expected - inferred) ** 2))\n",
        "    elif mode == \"mse\":\n",
        "        error = np.mean((expected - inferred) ** 2)\n",
        "    elif mode == \"mae\":\n",
        "        error = np.mean(np.abs(expected - inferred))\n",
        "\n",
        "    accuracy = 1 / (error + 1)\n",
        "    return accuracy * 100"
      ],
      "metadata": {
        "id": "pmSp6vLS-xd1"
      },
      "execution_count": 153,
      "outputs": []
    },
    {
      "cell_type": "code",
      "execution_count": 154,
      "metadata": {
        "id": "3soQjqmEX_5d"
      },
      "outputs": [],
      "source": [
        "# Make inference\n",
        "sims = 1000\n",
        "X_train, y_train, X_test, y_test, sim_time, total_time = generate_data(X_scaler, y_scaler, int(sims/0.2))\n",
        "X_test = X_test.to(device)\n",
        "y_test = y_test.to(device)\n",
        "\n",
        "start_time = time.perf_counter()\n",
        "model.eval()\n",
        "with torch.no_grad():\n",
        "  test_pred = model(X_test)\n",
        "  end_time = time.perf_counter()\n",
        "  test_pred = test_pred.cpu().numpy()\n",
        "  y_test = y_test.cpu().numpy()\n",
        "\n",
        "pred_time = end_time - start_time"
      ]
    },
    {
      "cell_type": "code",
      "source": [
        "# Benchmarks\n",
        "print(f\"Simulations: {y_test.shape[0]}\")\n",
        "print(f\"Simulation computed in {sim_time:.9f} seconds.\")\n",
        "print(f\"Simulations total time {total_time:.9f} seconds.\")\n",
        "print(f\"Simulation inferred in {pred_time:.9f} seconds.\\n\")\n",
        "\n",
        "print(f\"Accuracy (RMSE): {accuracy(y_test, test_pred,'rmse'):.2f}%\")\n",
        "print(f\"Accuracy (MSE): {accuracy(y_test, test_pred, 'mse'):.2f}%\")\n",
        "print(f\"Accuracy (MAE): {accuracy(y_test, test_pred, 'mae'):.2f}%\")"
      ],
      "metadata": {
        "colab": {
          "base_uri": "https://localhost:8080/"
        },
        "id": "f-hnWsOQATp8",
        "outputId": "8fb42757-e44f-47e9-b8cd-f78095359c47"
      },
      "execution_count": 155,
      "outputs": [
        {
          "output_type": "stream",
          "name": "stdout",
          "text": [
            "Simulations: 1000\n",
            "Simulation computed in 0.000060939 seconds.\n",
            "Simulations total time 0.304694212 seconds.\n",
            "Simulation inferred in 0.001232713 seconds.\n",
            "\n",
            "Accuracy (RMSE): 96.25%\n",
            "Accuracy (MSE): 99.85%\n",
            "Accuracy (MAE): 97.81%\n"
          ]
        }
      ]
    },
    {
      "cell_type": "code",
      "source": [
        "sim_times = []\n",
        "total_times = []\n",
        "pred_times = []\n",
        "\n",
        "for num_sims in range(1, 21, 1):\n",
        "    X_train, y_train, X_test, y_test, sim_time, total_time = generate_data(X_scaler, y_scaler, int(num_sims/0.2))\n",
        "    X_test = X_test.to(device)\n",
        "    y_test = y_test.to(device)\n",
        "\n",
        "    start_time = time.perf_counter()\n",
        "    model.eval()\n",
        "    with torch.no_grad():\n",
        "      test_pred = model(X_test)\n",
        "      end_time = time.perf_counter()\n",
        "      test_pred = test_pred.cpu().numpy()\n",
        "      y_test = y_test.cpu().numpy()\n",
        "\n",
        "    pred_time = end_time - start_time\n",
        "\n",
        "    sim_times.append(sim_time)\n",
        "    total_times.append(total_time)\n",
        "    pred_times.append(pred_time)\n",
        "    print(f\"Simulations: {num_sims}\")"
      ],
      "metadata": {
        "colab": {
          "base_uri": "https://localhost:8080/"
        },
        "id": "2bAY42bda6mk",
        "outputId": "3e29b645-4187-43a0-df2a-4e32b466ee82"
      },
      "execution_count": 156,
      "outputs": [
        {
          "output_type": "stream",
          "name": "stdout",
          "text": [
            "Simulations: 1\n",
            "Simulations: 2\n",
            "Simulations: 3\n",
            "Simulations: 4\n",
            "Simulations: 5\n",
            "Simulations: 6\n",
            "Simulations: 7\n",
            "Simulations: 8\n",
            "Simulations: 9\n",
            "Simulations: 10\n",
            "Simulations: 11\n",
            "Simulations: 12\n",
            "Simulations: 13\n",
            "Simulations: 14\n",
            "Simulations: 15\n",
            "Simulations: 16\n",
            "Simulations: 17\n",
            "Simulations: 18\n",
            "Simulations: 19\n",
            "Simulations: 20\n"
          ]
        }
      ]
    },
    {
      "cell_type": "code",
      "source": [
        "# Plot comparasion graph\n",
        "plt.plot([i * 1 for i in range(1, len(sim_times) + 1)], sim_times, label=\"Average Compute Time\")\n",
        "plt.plot([i * 1 for i in range(1, len(total_times) + 1)], total_times, label=\"Total Compute Time\")\n",
        "plt.plot([i * 1 for i in range(1, len(pred_times) + 1)], pred_times, label=\"Inference Time\")\n",
        "plt.xlabel(\"Number of Simulations\")\n",
        "plt.ylabel(\"Runtime (s)\")\n",
        "plt.legend()\n",
        "plt.title(\"Runtimes Comparison\")\n",
        "plt.grid(True)\n",
        "plt.show()"
      ],
      "metadata": {
        "colab": {
          "base_uri": "https://localhost:8080/",
          "height": 472
        },
        "id": "dMA9w9uGZ9qm",
        "outputId": "829b2466-ebc8-4b9a-ca97-0706783b46da"
      },
      "execution_count": 157,
      "outputs": [
        {
          "output_type": "display_data",
          "data": {
            "text/plain": [
              "<Figure size 640x480 with 1 Axes>"
            ],
            "image/png": "[encoded data removed]"
          },
          "metadata": {}
        }
      ]
    },
    {
      "cell_type": "code",
      "execution_count": 17,
      "metadata": {
        "id": "Md2se3NQYeJn"
      },
      "outputs": [],
      "source": [
        "def simulation_visualization(components, frames=shape[0], color=\"black\"):\n",
        "    for i in range(frames):\n",
        "        pos = components[0][i], components[1][i]\n",
        "        vel = components[2][i], components[3][i]\n",
        "        frc = components[4][i], components[5][i]\n",
        "\n",
        "        # Set axis limits dynamically\n",
        "        plt.xlim(-5, 5)\n",
        "        plt.ylim(-5, 5)\n",
        "\n",
        "        if i == 0 or i == 99:\n",
        "          # Plot velocity and acceleration vectors\n",
        "          plt.quiver(pos[0], pos[1], frc[0], frc[1], color='orange', scale=15)  # Drag Force\n",
        "          #plt.quiver(pos[0], pos[1], initial[\"acc\"][0][0], initial[\"acc\"][0][1], color='red', scale=15)  # Acceleration\n",
        "          plt.quiver(pos[0], pos[1], vel[0]/2, vel[1]/2, color='blue', scale=15)  # Velocity\n",
        "\n",
        "        # Plot particle position\n",
        "        plt.scatter(pos[0], pos[1], color=color)"
      ]
    },
    {
      "cell_type": "code",
      "execution_count": 18,
      "metadata": {
        "colab": {
          "base_uri": "https://localhost:8080/"
        },
        "id": "QSrjFptW8Wwx",
        "outputId": "f004d5a6-649e-4df8-81db-dbb2227fcce9"
      },
      "outputs": [
        {
          "output_type": "execute_result",
          "data": {
            "text/plain": [
              "((20, 100, 6), (20, 100, 6))"
            ]
          },
          "metadata": {},
          "execution_count": 18
        }
      ],
      "source": [
        "# Reshape the data to 2D before inverse transform\n",
        "y_shape = y_test.shape\n",
        "test_pred = test_pred.reshape(-1, test_pred.shape[-1])\n",
        "y_test = y_test.reshape(-1, y_test.shape[-1])\n",
        "\n",
        "y_pred = y_scaler.inverse_transform(test_pred)\n",
        "y_test = y_scaler.inverse_transform(y_test)\n",
        "\n",
        "# Reshape back to 3D after inverse transform\n",
        "y_pred = y_pred.reshape(y_shape)\n",
        "y_test = y_test.reshape(y_shape)\n",
        "\n",
        "y_pred.shape, y_test.shape"
      ]
    },
    {
      "cell_type": "code",
      "execution_count": 19,
      "metadata": {
        "colab": {
          "base_uri": "https://localhost:8080/",
          "height": 430
        },
        "id": "oleFbBqvYk32",
        "outputId": "b71167fa-2f8f-4cf7-aa01-bb1bdad1223f"
      },
      "outputs": [
        {
          "output_type": "display_data",
          "data": {
            "text/plain": [
              "<Figure size 640x480 with 1 Axes>"
            ],
            "image/png": "[encoded data removed]"
          },
          "metadata": {}
        }
      ],
      "source": [
        "sim = 9\n",
        "\n",
        "simulation_visualization(y_test[sim].T)\n",
        "simulation_visualization(y_pred[sim].T, color=\"cyan\")\n",
        "plt.show()"
      ]
    },
    {
      "cell_type": "code",
      "execution_count": 20,
      "metadata": {
        "id": "UCmsj4HzCVUJ"
      },
      "outputs": [],
      "source": [
        "initial = ProjectileMotionSimulation(\n",
        "            pos=np.broadcast_to(np.zeros(num_dim), shape),\n",
        "            vel=np.broadcast_to(np.array([7, 7]), shape),\n",
        "            mass=np.full(shape, 0.2),\n",
        "            acc=np.broadcast_to(np.array([0, -9]), shape),\n",
        "            drg=np.full(shape, 2.6)\n",
        "        )\n",
        "\n",
        "initial.compute_output(initial, delta_times)\n",
        "\n",
        "inputs = np.concatenate([\n",
        "    initial.vel,\n",
        "    initial.acc,\n",
        "    initial.mass[:, :-1],\n",
        "    initial.drg[:, :-1],\n",
        "], axis=1)\n",
        "outputs = np.concatenate([\n",
        "    initial.pos,\n",
        "    initial.vel,\n",
        "    initial.frc\n",
        "], axis=1)\n",
        "\n",
        "X = X_scaler.transform(inputs).reshape(1, shape[0], in_features)\n",
        "y = y_scaler.transform(outputs).reshape(1, shape[0], out_features)"
      ]
    },
    {
      "cell_type": "code",
      "execution_count": 21,
      "metadata": {
        "id": "W73Wj1bK0Xfv"
      },
      "outputs": [],
      "source": [
        "# Make inference\n",
        "X = torch.tensor(X, dtype=torch.float32).to(device)\n",
        "y = torch.tensor(y, dtype=torch.float32).to(device)\n",
        "\n",
        "model.eval()\n",
        "with torch.no_grad():\n",
        "  y_pred = model(X)\n",
        "  y_pred = y_pred.cpu().numpy()\n",
        "  y = y.cpu().numpy()"
      ]
    },
    {
      "cell_type": "code",
      "execution_count": 22,
      "metadata": {
        "id": "1xzE3xXo1Taj"
      },
      "outputs": [],
      "source": [
        "# Reshape the data to 2D before inverse transform\n",
        "y_pred = y_pred.reshape(shape[0], out_features)\n",
        "y = y.reshape(shape[0], out_features)\n",
        "\n",
        "y_pred = y_scaler.inverse_transform(y_pred)\n",
        "y = y_scaler.inverse_transform(y)"
      ]
    },
    {
      "cell_type": "code",
      "execution_count": 23,
      "metadata": {
        "colab": {
          "base_uri": "https://localhost:8080/",
          "height": 430
        },
        "id": "yJuT-tGE1uhr",
        "outputId": "c73290f8-ce6f-4a49-d92a-8b443d33c221"
      },
      "outputs": [
        {
          "output_type": "display_data",
          "data": {
            "text/plain": [
              "<Figure size 640x480 with 1 Axes>"
            ],
            "image/png": "[encoded data removed]"
          },
          "metadata": {}
        }
      ],
      "source": [
        "simulation_visualization(y.T)\n",
        "simulation_visualization(y_pred.T, color=\"cyan\")\n",
        "plt.show()"
      ]
    },
    {
      "cell_type": "code",
      "execution_count": null,
      "metadata": {
        "id": "IZ4ow8TfrJk8"
      },
      "outputs": [],
      "source": [
        "# Saving Model\n",
        "torch.save(model.state_dict(), \"/content/PMmodel_5.pth\")\n",
        "with open(\"scalers5.pkl\", \"wb\") as f:\n",
        "    pk.dump((X_scaler, y_scaler), f)"
      ]
    }
  ],
  "metadata": {
    "accelerator": "GPU",
    "colab": {
      "gpuType": "T4",
      "provenance": [],
      "mount_file_id": "1q2He8p6rxhUxZC01UujMN-IgzmdrdrGC",
      "authorship_tag": "ABX9TyMdE8rJJ/H6Ueyt425yp+JB",
      "include_colab_link": true
    },
    "kernelspec": {
      "display_name": "Python 3",
      "name": "python3"
    },
    "language_info": {
      "name": "python"
    }
  },
  "nbformat": 4,
  "nbformat_minor": 0
}